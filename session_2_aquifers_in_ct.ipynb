{
 "cells": [
  {
   "cell_type": "code",
   "execution_count": 1,
   "metadata": {},
   "outputs": [],
   "source": [
    "import pandas as pd\n",
    "import numpy as np\n",
    "import matplotlib.pyplot as plt\n",
    "import seaborn as sns\n",
    "\n",
    "from pathlib import Path\n"
   ]
  },
  {
   "cell_type": "code",
   "execution_count": 2,
   "metadata": {},
   "outputs": [],
   "source": [
    "DATA_DIR = Path('data') / 'Niveles_acuiferos_cartagena'"
   ]
  },
  {
   "cell_type": "code",
   "execution_count": 3,
   "metadata": {},
   "outputs": [],
   "source": [
    "aquifers_inventory = pd.read_excel(DATA_DIR / 'inventario_acuiferos_cartagena.xlsx')"
   ]
  },
  {
   "cell_type": "code",
   "execution_count": 4,
   "metadata": {},
   "outputs": [
    {
     "data": {
      "text/html": [
       "<div>\n",
       "<style scoped>\n",
       "    .dataframe tbody tr th:only-of-type {\n",
       "        vertical-align: middle;\n",
       "    }\n",
       "\n",
       "    .dataframe tbody tr th {\n",
       "        vertical-align: top;\n",
       "    }\n",
       "\n",
       "    .dataframe thead th {\n",
       "        text-align: right;\n",
       "    }\n",
       "</style>\n",
       "<table border=\"1\" class=\"dataframe\">\n",
       "  <thead>\n",
       "    <tr style=\"text-align: right;\">\n",
       "      <th></th>\n",
       "      <th>Resultados de la búsqueda Medidas por Piezómetro</th>\n",
       "      <th>Unnamed: 1</th>\n",
       "      <th>Unnamed: 2</th>\n",
       "      <th>Unnamed: 3</th>\n",
       "      <th>Unnamed: 4</th>\n",
       "      <th>Unnamed: 5</th>\n",
       "      <th>Unnamed: 6</th>\n",
       "      <th>Unnamed: 7</th>\n",
       "      <th>Unnamed: 8</th>\n",
       "    </tr>\n",
       "  </thead>\n",
       "  <tbody>\n",
       "    <tr>\n",
       "      <th>0</th>\n",
       "      <td>Demarcación Hidrográfica</td>\n",
       "      <td>Cod. Piezómetro</td>\n",
       "      <td>Cod. Europeo</td>\n",
       "      <td>Nombre</td>\n",
       "      <td>Cota terreno (msnm)</td>\n",
       "      <td>MASb controlada</td>\n",
       "      <td>Provincia</td>\n",
       "      <td>Municipio</td>\n",
       "      <td>Nº Medidas</td>\n",
       "    </tr>\n",
       "    <tr>\n",
       "      <th>1</th>\n",
       "      <td>Segura</td>\n",
       "      <td>07.31.011</td>\n",
       "      <td>ES070ESBT07-31-011</td>\n",
       "      <td>Los Cañas</td>\n",
       "      <td>33</td>\n",
       "      <td>CAMPO DE CARTAGENA</td>\n",
       "      <td>Murcia</td>\n",
       "      <td>Cartagena</td>\n",
       "      <td>71</td>\n",
       "    </tr>\n",
       "    <tr>\n",
       "      <th>2</th>\n",
       "      <td>Segura</td>\n",
       "      <td>07.31.012</td>\n",
       "      <td>ES070ESBT07-31-012</td>\n",
       "      <td>Lo de Lucas</td>\n",
       "      <td>24</td>\n",
       "      <td>CAMPO DE CARTAGENA</td>\n",
       "      <td>Murcia</td>\n",
       "      <td>Cartagena</td>\n",
       "      <td>89</td>\n",
       "    </tr>\n",
       "    <tr>\n",
       "      <th>3</th>\n",
       "      <td>Segura</td>\n",
       "      <td>07.31.101</td>\n",
       "      <td>ES070ESBT07-31-101</td>\n",
       "      <td>Los Beatos</td>\n",
       "      <td>30</td>\n",
       "      <td>CAMPO DE CARTAGENA</td>\n",
       "      <td>Murcia</td>\n",
       "      <td>Cartagena</td>\n",
       "      <td>229</td>\n",
       "    </tr>\n",
       "    <tr>\n",
       "      <th>4</th>\n",
       "      <td>Segura</td>\n",
       "      <td>07.31.212</td>\n",
       "      <td>ES070ESBT07-31-212</td>\n",
       "      <td>Cortijo de la Palma</td>\n",
       "      <td>37</td>\n",
       "      <td>CAMPO DE CARTAGENA</td>\n",
       "      <td>Murcia</td>\n",
       "      <td>Cartagena</td>\n",
       "      <td>107</td>\n",
       "    </tr>\n",
       "  </tbody>\n",
       "</table>\n",
       "</div>"
      ],
      "text/plain": [
       "  Resultados de la búsqueda Medidas por Piezómetro       Unnamed: 1  \\\n",
       "0                         Demarcación Hidrográfica  Cod. Piezómetro   \n",
       "1                                           Segura        07.31.011   \n",
       "2                                           Segura        07.31.012   \n",
       "3                                           Segura        07.31.101   \n",
       "4                                           Segura        07.31.212   \n",
       "\n",
       "           Unnamed: 2           Unnamed: 3           Unnamed: 4  \\\n",
       "0        Cod. Europeo               Nombre  Cota terreno (msnm)   \n",
       "1  ES070ESBT07-31-011            Los Cañas                   33   \n",
       "2  ES070ESBT07-31-012          Lo de Lucas                   24   \n",
       "3  ES070ESBT07-31-101           Los Beatos                   30   \n",
       "4  ES070ESBT07-31-212  Cortijo de la Palma                   37   \n",
       "\n",
       "           Unnamed: 5 Unnamed: 6 Unnamed: 7  Unnamed: 8  \n",
       "0     MASb controlada  Provincia  Municipio  Nº Medidas  \n",
       "1  CAMPO DE CARTAGENA     Murcia  Cartagena          71  \n",
       "2  CAMPO DE CARTAGENA     Murcia  Cartagena          89  \n",
       "3  CAMPO DE CARTAGENA     Murcia  Cartagena         229  \n",
       "4  CAMPO DE CARTAGENA     Murcia  Cartagena         107  "
      ]
     },
     "execution_count": 4,
     "metadata": {},
     "output_type": "execute_result"
    }
   ],
   "source": [
    "aquifers_inventory.head()"
   ]
  },
  {
   "cell_type": "code",
   "execution_count": null,
   "metadata": {},
   "outputs": [],
   "source": []
  }
 ],
 "metadata": {
  "kernelspec": {
   "display_name": "base",
   "language": "python",
   "name": "python3"
  },
  "language_info": {
   "codemirror_mode": {
    "name": "ipython",
    "version": 3
   },
   "file_extension": ".py",
   "mimetype": "text/x-python",
   "name": "python",
   "nbconvert_exporter": "python",
   "pygments_lexer": "ipython3",
   "version": "3.11.5"
  }
 },
 "nbformat": 4,
 "nbformat_minor": 2
}
